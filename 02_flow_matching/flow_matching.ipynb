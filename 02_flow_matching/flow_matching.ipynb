{
 "cells": [
  {
   "cell_type": "markdown",
   "metadata": {},
   "source": [
    "# Flow Matching\n",
    "\n",
    "This afternoon we're going to be working with the _same_ dataset as yesterday in Annalena's tutorial with binary black hole (BBH) merger, but... using a **continous normalizing flow** trained with the **flow matching loss** instead of the discrete normalizing flows from yesterday.\n",
    "\n",
    "<img src=\"Two_merging_black_holes.jpg.png\"  width=\"300\" height=\"200\">\n",
    "\n",
    "Photo credit [ESA](https://www.esa.int/ESA_Multimedia/Images/2019/05/Two_merging_black_holes)\n",
    "\n",
    "**Resources:** \n",
    "The data loading is the same as yday and comes from Annalena's nb, and also code for this notebook comes from some excellent flow matching tutorials:\n",
    "- Carol's PALMS tutorial:\n",
    "- Lukas's notebooks:\n",
    "\n",
    "**Prerequisites:**\n",
    "- Step X of this tutorial is going to look at the _likelihood_ of the trained model.\n",
    "- To do this, you'll need to _integrate_ the neural ODE\n",
    "- We assume you've already learned how to do this in this mornings `conditional_normalizing_flow.ipynb` tutorial, so if you haven't done this yet, just take some time to go back and learn that step before diving into the flow matching jazz :)\n",
    "\n",
    "\n",
    "**Table of Contents:**\n",
    "- Q1/\n",
    "- Q2/\n",
    "- Q3/\n",
    "\n",
    "\n",
    "Nicole Hartman\n",
    "\n",
    "ODSL GenAI Days\n",
    "\n",
    "24 Sept 2024"
   ]
  },
  {
   "cell_type": "code",
   "execution_count": 1,
   "metadata": {},
   "outputs": [],
   "source": [
    "import os\n",
    "import matplotlib.pyplot as plt\n",
    "import numpy as np\n",
    "import pickle\n",
    "import torch\n",
    "import corner\n",
    "\n",
    "from torch.utils.data import Dataset, DataLoader, random_split\n",
    "\n",
    "%load_ext autoreload \n",
    "%autoreload 2\n"
   ]
  },
  {
   "cell_type": "code",
   "execution_count": 2,
   "metadata": {},
   "outputs": [],
   "source": [
    "# If running on Apple Silicon or CUDA is available, use the GPU.\n",
    "\n",
    "# if torch.backends.mps.is_available():\n",
    "#     device = \"mps\"\n",
    "# elif torch.cuda.is_available():\n",
    "#     device = \"cuda\"\n",
    "# else:\n",
    "#     device = \"cpu\"\n",
    "\n",
    "device=\"cpu\""
   ]
  },
  {
   "cell_type": "code",
   "execution_count": 3,
   "metadata": {},
   "outputs": [
    {
     "name": "stdout",
     "output_type": "stream",
     "text": [
      "cpu\n"
     ]
    }
   ],
   "source": [
    "print(device)"
   ]
  },
  {
   "cell_type": "markdown",
   "metadata": {},
   "source": [
    "### Data loading and preprocessing for training\n",
    "In this notebook, we will load and preprocess the data generated with the notebook `data_generation.ipynb` and saved as `data/training_dataset.pkl`."
   ]
  },
  {
   "cell_type": "code",
   "execution_count": 4,
   "metadata": {},
   "outputs": [
    {
     "name": "stdout",
     "output_type": "stream",
     "text": [
      "Sucessfully loaded dataset with 10000 waveforms.\n"
     ]
    }
   ],
   "source": [
    "data_folder = '../01_normalizing_flows/data'\n",
    "file_name = os.path.join(data_folder, 'dataset.pkl')\n",
    "\n",
    "if not os.path.isfile(file_name):\n",
    "    raise ValueError(f\"File {file_name} does not exist, correct path or generate data set.\")\n",
    "\n",
    "with open(file_name, 'rb') as f:\n",
    "    data = pickle.load(f)\n",
    "print('Sucessfully loaded dataset with', len(data['hp']), 'waveforms.')"
   ]
  },
  {
   "cell_type": "markdown",
   "metadata": {},
   "source": [
    "Load in a pytorch Dataset and do the dataset preprocessing"
   ]
  },
  {
   "cell_type": "code",
   "execution_count": 5,
   "metadata": {},
   "outputs": [],
   "source": [
    "class WaveformDataset(Dataset):\n",
    "    \n",
    "    def __init__(self, data):\n",
    "        '''\n",
    "        - data: As loaded from what we've saved from the \n",
    "                data_generation nb\n",
    "        '''\n",
    "\n",
    "        parameters = torch.FloatTensor(data['masses'])\n",
    "    \n",
    "        # Standardize masses for training\n",
    "        self.parameters_mean = torch.mean(parameters, axis=0)\n",
    "        self.parameters_std = torch.std(parameters, axis=0)\n",
    "        \n",
    "        parameters_standardized = (parameters - self.parameters_mean) / self.parameters_std\n",
    "                \n",
    "        '''\n",
    "        Pre-process waveforms: \n",
    "        - truncate below f_min\n",
    "        - re-package real and imaginary part\n",
    "        - only use $h_+$ for simplicity\n",
    "        '''\n",
    "        hp = torch.tensor(data['hp'])\n",
    "        f_min, T = data['f_min'], data['T']\n",
    "        delta_f = 1/T\n",
    "        \n",
    "        lower_cut = int(f_min / delta_f)\n",
    "        waveforms = torch.hstack([hp.real[:, lower_cut:], hp.imag[:, lower_cut:]])\n",
    "\n",
    "        self.parameters = parameters_standardized\n",
    "        self.waveforms = waveforms.float() # type-cast to torch.float32\n",
    "\n",
    "    def __len__(self):\n",
    "        return len(self.parameters)\n",
    "\n",
    "    def __getitem__(self, idx):\n",
    "        params = self.parameters[idx]\n",
    "        signal = self.waveforms[idx]\n",
    "        \n",
    "        # Add unit normal noise to the signal\n",
    "        noise = torch.randn(size = signal.shape)\n",
    "        data = signal + noise\n",
    "\n",
    "        '''\n",
    "        Task #1: Sample t ~ [0,1] and return this with the signal\n",
    "        Hint: `torch.rand` might be a useful function\n",
    "\n",
    "        YOUR CODE HERE\n",
    "        '''\n",
    "        t = torch.rand(1)\n",
    "        \n",
    "        return data.to(device), params.to(device), t.to(device)\n",
    "\n",
    "# Returns data in the form (X, m)\n",
    "waveform_dataset = WaveformDataset(data)"
   ]
  },
  {
   "cell_type": "code",
   "execution_count": null,
   "metadata": {},
   "outputs": [],
   "source": []
  },
  {
   "cell_type": "code",
   "execution_count": null,
   "metadata": {},
   "outputs": [],
   "source": []
  },
  {
   "cell_type": "markdown",
   "metadata": {},
   "source": [
    "### Split data into train and test dataset"
   ]
  },
  {
   "cell_type": "code",
   "execution_count": 6,
   "metadata": {},
   "outputs": [],
   "source": [
    "# Split the dataset into training and test sets\n",
    "num_samples = len(waveform_dataset)\n",
    "train_fraction = 0.8\n",
    "num_train = int(round(train_fraction * num_samples))\n",
    "num_test = num_samples - num_train\n",
    "train_dataset, test_dataset = random_split(waveform_dataset, [num_train, num_test])\n",
    "\n",
    "# The DataLoader is used in training\n",
    "\n",
    "train_dataloader = DataLoader(train_dataset, batch_size=64, shuffle=True)\n",
    "test_dataloader = DataLoader(test_dataset, batch_size=64, shuffle=False)"
   ]
  },
  {
   "cell_type": "markdown",
   "metadata": {},
   "source": [
    "### Conditional Normalizing Flow\n",
    "\n",
    "**Step 1:** Set up a tiny MLP going from 2d + 1d + 1170d -> 2d (to learn the velocity field),\n",
    "where the extra 1d comes from time being an input too."
   ]
  },
  {
   "cell_type": "code",
   "execution_count": 7,
   "metadata": {},
   "outputs": [],
   "source": [
    "import torch.nn as nn"
   ]
  },
  {
   "cell_type": "code",
   "execution_count": 8,
   "metadata": {},
   "outputs": [],
   "source": [
    "param_dim  =waveform_dataset.parameters.shape[-1]\n",
    "context_dim = waveform_dataset.waveforms.shape[-1] \n",
    "\n",
    "in_dim = param_dim+context_dim+1 "
   ]
  },
  {
   "cell_type": "code",
   "execution_count": 9,
   "metadata": {},
   "outputs": [],
   "source": [
    "hidden_dim = 512\n",
    "activation_fct = nn.ReLU()\n",
    "\n",
    "# phi = nn.Sequential(nn.Linear(in_dim,hidden_dim),activation_fct,\n",
    "#                     nn.Linear(hidden_dim,hidden_dim//2),activation_fct,\n",
    "#                     nn.Linear(hidden_dim//2,hidden_dim//4),activation_fct,\n",
    "#                     nn.Linear(hidden_dim//4,param_dim),\n",
    "#                    ).to(device)\n",
    "\n",
    "phi = nn.Sequential(nn.Linear(param_dim+1,hidden_dim),activation_fct,\n",
    "                    nn.Linear(hidden_dim,hidden_dim//2),activation_fct,\n",
    "                    nn.Linear(hidden_dim//2,hidden_dim//4),activation_fct,\n",
    "                    nn.Linear(hidden_dim//4,param_dim),\n",
    "                   ).to(device)"
   ]
  },
  {
   "cell_type": "markdown",
   "metadata": {},
   "source": [
    "Other \"tricks\" that I could play:\n",
    "- batch norm\n",
    "- dropout\n",
    "- residual connections"
   ]
  },
  {
   "cell_type": "markdown",
   "metadata": {},
   "source": [
    "**Possible follow-up:** compress the vector $x$ before giving it to the network!\n",
    "- E.g, w/ a Deep Set :)"
   ]
  },
  {
   "cell_type": "markdown",
   "metadata": {},
   "source": [
    "**Check the input and output dimensionality**"
   ]
  },
  {
   "cell_type": "code",
   "execution_count": 10,
   "metadata": {},
   "outputs": [],
   "source": [
    "for X,theta,t in train_dataloader:\n",
    "    break"
   ]
  },
  {
   "cell_type": "code",
   "execution_count": 11,
   "metadata": {},
   "outputs": [
    {
     "data": {
      "text/plain": [
       "(torch.Size([64, 1970]), torch.Size([64, 2]), torch.Size([64, 1]))"
      ]
     },
     "execution_count": 11,
     "metadata": {},
     "output_type": "execute_result"
    }
   ],
   "source": [
    "X.shape,theta.shape,t.shape"
   ]
  },
  {
   "cell_type": "code",
   "execution_count": 12,
   "metadata": {},
   "outputs": [
    {
     "data": {
      "text/plain": [
       "torch.Size([64, 3])"
      ]
     },
     "execution_count": 12,
     "metadata": {},
     "output_type": "execute_result"
    }
   ],
   "source": [
    "X_in = torch.concatenate([theta,t],axis=1)\n",
    "# X_in = torch.concatenate([theta,X,t],axis=1)\n",
    "X_in.shape"
   ]
  },
  {
   "cell_type": "code",
   "execution_count": 13,
   "metadata": {},
   "outputs": [
    {
     "data": {
      "text/plain": [
       "torch.Size([64, 2])"
      ]
     },
     "execution_count": 13,
     "metadata": {},
     "output_type": "execute_result"
    }
   ],
   "source": [
    "ut = phi(X_in)\n",
    "ut.shape"
   ]
  },
  {
   "cell_type": "markdown",
   "metadata": {},
   "source": [
    "Sanity check passed :)"
   ]
  },
  {
   "cell_type": "code",
   "execution_count": 14,
   "metadata": {},
   "outputs": [
    {
     "data": {
      "text/plain": [
       "Text(0, 0.5, 'standardized $M_2$')"
      ]
     },
     "execution_count": 14,
     "metadata": {},
     "output_type": "execute_result"
    },
    {
     "data": {
      "image/png": "[encoded data removed]",
      "text/plain": [
       "<Figure size 300x300 with 1 Axes>"
      ]
     },
     "metadata": {},
     "output_type": "display_data"
    }
   ],
   "source": [
    "plt.figure(figsize=(3,3))\n",
    "plt.scatter(*waveform_dataset.parameters.T,1,marker='.',alpha=.1)\n",
    "plt.xlabel('standardized $M_1$')\n",
    "plt.ylabel('standardized $M_2$')"
   ]
  },
  {
   "cell_type": "markdown",
   "metadata": {},
   "source": [
    "**Q3 / What do the mass samples from the posterior look like before training?**\n",
    "\n",
    "To do this, we'll need to copy over the _whole_ CNF model from the notebook this morning, maybe I should move this exercise to after the training step?"
   ]
  },
  {
   "cell_type": "code",
   "execution_count": null,
   "metadata": {},
   "outputs": [],
   "source": []
  },
  {
   "cell_type": "code",
   "execution_count": 47,
   "metadata": {},
   "outputs": [],
   "source": [
    "class condCNF(nn.Module):\n",
    "    \"\"\"\n",
    "    Copying over from `continuous_norm_flow` \n",
    "    and modifying it to be a conditional distribution \n",
    "    \"\"\"\n",
    "    def __init__(self, net):\n",
    "        super().__init__()\n",
    "                \n",
    "        self.phi = net\n",
    "        \n",
    "    def forward(self, t, states):\n",
    "        x = states[0] # masses\n",
    "        logp_x = states[1]\n",
    "        y = states[2] # GW signal\n",
    "        \n",
    "        batchsize = x.shape[0]\n",
    "\n",
    "        with torch.set_grad_enabled(True):\n",
    "            x.requires_grad_(True)\n",
    "            dx_dt = self.phi(torch.concatenate([x,t*torch.ones(batchsize,1)],axis=1))\n",
    "            # print(dx_dt.shape)\n",
    "            dlogp_x_dt = -trace_df_dz(dx_dt, x).view(batchsize, 1)\n",
    "\n",
    "        print('dx_dt',dx_dt.shape)\n",
    "        print('dlogp_x_dt',dlogp_x_dt.shape)\n",
    "        \n",
    "        return (dx_dt, dlogp_x_dt)\n",
    "\n",
    "\n",
    "def trace_df_dz(f, z):\n",
    "    \"\"\"Calculates the trace of the Jacobian df/dz.\n",
    "    Stolen from: https://github.com/rtqichen/ffjord/blob/master/lib/layers/odefunc.py#L13\n",
    "    \"\"\"\n",
    "    sum_diag = 0.\n",
    "    print(z.shape[1])\n",
    "    for i in range(z.shape[1]):\n",
    "        sum_diag += torch.autograd.grad(f[:, i].sum(), z, create_graph=True)[0].contiguous()[:, i].contiguous()\n",
    "\n",
    "    return sum_diag.contiguous()"
   ]
  },
  {
   "cell_type": "code",
   "execution_count": 48,
   "metadata": {},
   "outputs": [],
   "source": [
    "# Some global configs\n",
    "adjoint=False\n",
    "\n",
    "if adjoint:\n",
    "    from torchdiffeq import odeint_adjoint as odeint\n",
    "else:\n",
    "    from torchdiffeq import odeint"
   ]
  },
  {
   "cell_type": "code",
   "execution_count": 49,
   "metadata": {},
   "outputs": [],
   "source": [
    "func = condCNF(phi).to('cpu')"
   ]
  },
  {
   "cell_type": "code",
   "execution_count": 50,
   "metadata": {},
   "outputs": [],
   "source": [
    "device='cpu'"
   ]
  },
  {
   "cell_type": "code",
   "execution_count": 51,
   "metadata": {},
   "outputs": [],
   "source": [
    "# func(0.,(theta, X, logp_diff_t1))"
   ]
  },
  {
   "cell_type": "code",
   "execution_count": 52,
   "metadata": {},
   "outputs": [],
   "source": [
    "# ?odeint"
   ]
  },
  {
   "cell_type": "code",
   "execution_count": 53,
   "metadata": {},
   "outputs": [
    {
     "data": {
      "text/plain": [
       "torch.Size([64, 1970])"
      ]
     },
     "execution_count": 53,
     "metadata": {},
     "output_type": "execute_result"
    }
   ],
   "source": [
    "X.shape"
   ]
  },
  {
   "cell_type": "code",
   "execution_count": 54,
   "metadata": {},
   "outputs": [
    {
     "data": {
      "text/plain": [
       "192"
      ]
     },
     "execution_count": 54,
     "metadata": {},
     "output_type": "execute_result"
    }
   ],
   "source": [
    "3*64"
   ]
  },
  {
   "cell_type": "code",
   "execution_count": 55,
   "metadata": {},
   "outputs": [
    {
     "data": {
      "text/plain": [
       "64.0"
      ]
     },
     "execution_count": 55,
     "metadata": {},
     "output_type": "execute_result"
    }
   ],
   "source": [
    "(126272-3*64)/1970"
   ]
  },
  {
   "cell_type": "markdown",
   "metadata": {},
   "source": [
    "Clever workaround for some issues w/ CNF:\n",
    "\n",
    "https://github.com/atong01/conditional-flow-matching/blob/main/examples/images/conditional_mnist.ipynb"
   ]
  },
  {
   "cell_type": "code",
   "execution_count": 58,
   "metadata": {},
   "outputs": [
    {
     "name": "stdout",
     "output_type": "stream",
     "text": [
      "2\n",
      "dx_dt torch.Size([64, 2])\n",
      "dlogp_x_dt torch.Size([64, 1])\n"
     ]
    }
   ],
   "source": [
    "# x, logp_diff_t1 = get_batch(num_samples)\n",
    "\n",
    "t0,t1=0,1\n",
    "logp_diff_t1 = torch.zeros((X.shape[0],1)).float().to(device)\n",
    "\n",
    "z_t, logp_diff_t = odeint(\n",
    "    lambda t,parital_state: func(t,(*parital_state,X)),\n",
    "    (theta,logp_diff_t1),\n",
    "    torch.tensor([t1, t0]).type(torch.float32).to(device),\n",
    "    atol=1e-5,\n",
    "    rtol=1e-5,\n",
    "    method='euler',\n",
    ")"
   ]
  },
  {
   "cell_type": "code",
   "execution_count": null,
   "metadata": {},
   "outputs": [],
   "source": [
    "theta.shape, X.shape, logp_diff_t1.shape"
   ]
  },
  {
   "cell_type": "code",
   "execution_count": null,
   "metadata": {},
   "outputs": [],
   "source": []
  },
  {
   "cell_type": "code",
   "execution_count": null,
   "metadata": {},
   "outputs": [],
   "source": [
    "f = lambda t,x: t*x"
   ]
  },
  {
   "cell_type": "code",
   "execution_count": null,
   "metadata": {},
   "outputs": [],
   "source": [
    "x = torch.ones((10,2)).float()"
   ]
  },
  {
   "cell_type": "code",
   "execution_count": null,
   "metadata": {},
   "outputs": [],
   "source": [
    "odeint(\n",
    "    f,\n",
    "    x,\n",
    "    torch.tensor([t1, t0]).type(torch.float32).to(device),\n",
    "    atol=1e-5,\n",
    "    rtol=1e-5,\n",
    "    method='dopri5',\n",
    ")"
   ]
  },
  {
   "cell_type": "code",
   "execution_count": null,
   "metadata": {},
   "outputs": [],
   "source": []
  },
  {
   "cell_type": "code",
   "execution_count": null,
   "metadata": {},
   "outputs": [],
   "source": []
  },
  {
   "cell_type": "code",
   "execution_count": null,
   "metadata": {},
   "outputs": [],
   "source": [
    "X.dtype, theta.dtype, logp_diff_t1.dtype"
   ]
  },
  {
   "cell_type": "code",
   "execution_count": null,
   "metadata": {},
   "outputs": [],
   "source": []
  },
  {
   "cell_type": "code",
   "execution_count": null,
   "metadata": {},
   "outputs": [],
   "source": []
  },
  {
   "cell_type": "code",
   "execution_count": null,
   "metadata": {},
   "outputs": [],
   "source": []
  },
  {
   "cell_type": "markdown",
   "metadata": {},
   "source": [
    "**Can we vizualize the velocity field before training?**\n",
    "\n",
    "Following the mpl [docs](https://matplotlib.org/stable/gallery/lines_bars_and_markers/scatter_hist.html#sphx-glr-gallery-lines-bars-and-markers-scatter-hist-py) for the fancy plot layout :)"
   ]
  },
  {
   "cell_type": "code",
   "execution_count": null,
   "metadata": {},
   "outputs": [],
   "source": [
    "fig = plt.figure(figsize=(16,9))\n",
    "\n",
    "# Add a gridspec with 3 rows and two columns and \n",
    "# a ratio of 1 to 3 to 1 between along the horizontal and\n",
    "# 1 to 1 on the verical\n",
    "gs = fig.add_gridspec(2, 3,  width_ratios=(1, 2.5, 1), height_ratios=(1, 1),\n",
    "                      wspace=0.1, hspace=0.1\n",
    "                     )\n",
    "# Create the Axes.\n",
    "ax11 = fig.add_subplot(gs[1,1])\n",
    "ax10 = fig.add_subplot(gs[1,0],sharey=ax11)\n",
    "ax12 = fig.add_subplot(gs[1,2],sharey=ax11)\n",
    "\n",
    "ax01 = fig.add_subplot(gs[0,1],sharex=ax11)\n",
    "ax00 = fig.add_subplot(gs[0,0],sharey=ax01)\n",
    "ax02 = fig.add_subplot(gs[0,2],sharey=ax01)\n",
    "\n",
    "kwargs = dict(angles='xy',scale_units='xy', scale=30,\n",
    "              headwidth=2,headlength=2,headaxislength=2,\n",
    "              width=.004)\n",
    "ax01.quiver(t.squeeze().cpu(),theta[:,0].cpu(), np.ones(t.shape[0]), ut[:,0].detach().cpu(),\n",
    "           **kwargs)\n",
    "ax11.quiver(t.squeeze().cpu(),theta[:,1].cpu(), np.ones(t.shape[0]), ut[:,1].detach().cpu(),\n",
    "           **kwargs)\n",
    "\n",
    "ax11.set_xlabel('t',fontsize=20)\n",
    "\n",
    "'''\n",
    "Draw the samples @ the beginning + end of the trajectory.\n",
    "These are the samples we'll transform to plot the posterior\n",
    "'''\n",
    "z = torch.randn((t.shape[0],param_dim)) \n",
    "\n",
    "# Turn off the tick labels bc we're sharing the mass axis anyways\n",
    "for axi in [ax00,ax02,ax10,ax12]:\n",
    "    axi.tick_params(axis=\"x\", labelbottom=False)\n",
    "    axi.tick_params(axis=\"y\", labelleft=False)\n",
    "\n",
    "ax00.hist(z[:,0], range=(-3,3),color='grey', orientation='horizontal')\n",
    "ax10.hist(z[:,1], range=(-3,3),color='grey', orientation='horizontal')\n",
    "\n",
    "# And to get the (?) to show up \n",
    "# https://stackoverflow.com/questions/67685927/how-to-create-a-horizontal-histogram-the-other-way-around\n",
    "ax00.set_xlim(list(ax00.get_xlim())[::-1])\n",
    "ax10.set_xlim(list(ax10.get_xlim())[::-1])\n",
    "\n",
    "ax00.set_title('Initital samples from Gaussian')\n",
    "ax02.set_title('Samples evolved by flow')\n",
    "\n",
    "ax00.set_ylabel('M0',fontsize=20)\n",
    "ax10.set_ylabel('M1',fontsize=20)\n"
   ]
  },
  {
   "cell_type": "code",
   "execution_count": null,
   "metadata": {},
   "outputs": [],
   "source": [
    "plt.figure(figsize=(3,3))\n",
    "plt.hist(ut[:,0].detach().cpu(),histtype='step',label=r'dim 0')\n",
    "plt.hist(ut[:,1].detach().cpu(),histtype='step',label=r'dim 1')\n",
    "plt.legend()\n",
    "plt.xlabel('$u_\\theta(x,y,t)$')"
   ]
  },
  {
   "cell_type": "markdown",
   "metadata": {},
   "source": [
    "OK, the velocity field just has a slope that is _too small_ to show up on the velocity plot above"
   ]
  },
  {
   "cell_type": "code",
   "execution_count": null,
   "metadata": {},
   "outputs": [],
   "source": []
  },
  {
   "cell_type": "code",
   "execution_count": null,
   "metadata": {},
   "outputs": [],
   "source": []
  },
  {
   "cell_type": "code",
   "execution_count": null,
   "metadata": {},
   "outputs": [],
   "source": []
  },
  {
   "cell_type": "markdown",
   "metadata": {},
   "source": [
    "### Training"
   ]
  },
  {
   "cell_type": "code",
   "execution_count": null,
   "metadata": {},
   "outputs": [],
   "source": []
  },
  {
   "cell_type": "code",
   "execution_count": null,
   "metadata": {},
   "outputs": [],
   "source": []
  },
  {
   "cell_type": "code",
   "execution_count": null,
   "metadata": {},
   "outputs": [],
   "source": [
    "# Training and test loops\n",
    "\n",
    "def train_loop(dataloader, model, optimizer):\n",
    "\n",
    "    model.train()\n",
    " \n",
    "    size = len(dataloader.dataset)\n",
    "    train_loss = 0\n",
    "    \n",
    "    for batch, (X, y) in enumerate(dataloader):\n",
    "        # Compute negative log probability loss  \n",
    "        loss = - model.log_prob(y, X)\n",
    "        \n",
    "        train_loss += loss.detach().sum()\n",
    "        loss = loss.mean()\n",
    "\n",
    "        # Backpropagation\n",
    "        optimizer.zero_grad()\n",
    "        loss.backward()\n",
    "        optimizer.step()\n",
    "\n",
    "        if batch % 50 == 0:\n",
    "            loss, current = loss.item(), batch * len(X)\n",
    "            print(f\"Loss: {loss:>7f}  [{current:>5d}/{size:>5d} samples]\")\n",
    "            \n",
    "    average_loss = train_loss.item() / size\n",
    "    print('Average loss: {:.4f}'.format(average_loss))\n",
    "    return average_loss\n",
    "\n",
    "        \n",
    "def test_loop(dataloader, model):\n",
    "\n",
    "    model.eval()\n",
    "    \n",
    "    size = len(dataloader.dataset)\n",
    "    test_loss = 0\n",
    "\n",
    "    with torch.no_grad():\n",
    "        for X, y in dataloader:\n",
    "            loss = - model.log_prob(y, X)\n",
    "            test_loss += loss.sum()\n",
    "\n",
    "    test_loss = test_loss.item() / size\n",
    "    print(f\"Test loss: {test_loss:>8f} \\n\")\n",
    "    return test_loss"
   ]
  },
  {
   "cell_type": "code",
   "execution_count": null,
   "metadata": {},
   "outputs": [],
   "source": [
    "optimizer = torch.optim.Adam(model.parameters(), lr=3e-4, weight_decay=1e-5)\n",
    "\n",
    "epochs = 20\n",
    "train_history = []\n",
    "test_history = []\n",
    "for t in range(epochs):\n",
    "    print(f\"Epoch {t+1}\\n-------------------------------\")\n",
    "    loss = train_loop(train_dataloader, model, optimizer)\n",
    "    train_history.append(loss)\n",
    "    loss = test_loop(test_dataloader, model)\n",
    "    test_history.append(loss)\n",
    "print(\"Done!\")"
   ]
  },
  {
   "cell_type": "code",
   "execution_count": null,
   "metadata": {},
   "outputs": [],
   "source": [
    "epochs = np.arange(1, len(train_history) + 1)\n",
    "plt.plot(epochs, train_history, '-o', label = 'train loss')\n",
    "plt.plot(epochs, test_history, '-o', label = 'test loss')\n",
    "plt.xlabel('Epoch')\n",
    "plt.ylabel('Loss')\n",
    "plt.legend()\n",
    "plt.show()"
   ]
  },
  {
   "cell_type": "code",
   "execution_count": null,
   "metadata": {},
   "outputs": [],
   "source": []
  },
  {
   "cell_type": "code",
   "execution_count": null,
   "metadata": {},
   "outputs": [],
   "source": []
  },
  {
   "cell_type": "code",
   "execution_count": null,
   "metadata": {},
   "outputs": [],
   "source": []
  },
  {
   "cell_type": "markdown",
   "metadata": {},
   "source": [
    "### Visualize posteriors"
   ]
  },
  {
   "cell_type": "code",
   "execution_count": null,
   "metadata": {},
   "outputs": [],
   "source": [
    "num_posteriors = 10\n",
    "num_eval_samples = 10_000\n",
    "\n",
    "model.eval()\n",
    "\n",
    "for n in range(num_posteriors):\n",
    "\n",
    "    with torch.no_grad():\n",
    "    \n",
    "        test_x, test_y = test_dataset[n]\n",
    "       \n",
    "        # Sample the posterior\n",
    "        test_x = test_x.expand(num_eval_samples, *test_x.shape)\n",
    "        pred_samples = model.sample(1, test_x).squeeze(1).cpu().numpy()\n",
    "    \n",
    "        # Undo the standardization\n",
    "        pred_samples = parameters_std * pred_samples + parameters_mean\n",
    "        truth = parameters_std * test_y.cpu().numpy() + parameters_mean\n",
    "        print(truth)\n",
    "    \n",
    "        # Plot\n",
    "        corner.corner(pred_samples, truths=truth, labels=['$m_1$', '$m_2$'])\n",
    "        plt.show()"
   ]
  }
 ],
 "metadata": {
  "kernelspec": {
   "display_name": "Python 3 (ipykernel)",
   "language": "python",
   "name": "python3"
  },
  "language_info": {
   "codemirror_mode": {
    "name": "ipython",
    "version": 3
   },
   "file_extension": ".py",
   "mimetype": "text/x-python",
   "name": "python",
   "nbconvert_exporter": "python",
   "pygments_lexer": "ipython3",
   "version": "3.11.8"
  }
 },
 "nbformat": 4,
 "nbformat_minor": 4
}
